{
 "cells": [
  {
   "cell_type": "code",
   "execution_count": 16,
   "id": "a7e75479",
   "metadata": {},
   "outputs": [
    {
     "name": "stdout",
     "output_type": "stream",
     "text": [
      "The autoreload extension is already loaded. To reload it, use:\n",
      "  %reload_ext autoreload\n"
     ]
    }
   ],
   "source": [
    "# import needed packages\n",
    "%load_ext autoreload\n",
    "%autoreload 2\n",
    "\n",
    "import sys\n",
    "import arviz as az\n",
    "sys.path.append('../src/')\n",
    "import scipy as sp\n",
    "import pandas as pd\n",
    "import numpy as np\n",
    "import matplotlib.pyplot as plt\n",
    "from matplotlib.axes import Axes\n",
    "from sklearn.gaussian_process.kernels import RBF, Matern, ConstantKernel as C, WhiteKernel\n",
    "from sklearn.gaussian_process.kernels import RationalQuadratic\n",
    "from sklearn.gaussian_process import GaussianProcessRegressor\n",
    "from scipy.optimize import fsolve\n",
    "from gp_utils import GaussianProcessRegressor2dNoise\n",
    "\n",
    "from eos_utils import gp_data\n",
    "\n",
    "# define saturation up here\n",
    "n0 = 0.164"
   ]
  },
  {
   "cell_type": "code",
   "execution_count": 17,
   "id": "886b31be",
   "metadata": {},
   "outputs": [
    {
     "name": "stdout",
     "output_type": "stream",
     "text": [
      "(600,)\n"
     ]
    }
   ],
   "source": [
    "# solve for the length scale given some distance\n",
    "data_xeft = np.load('../data/NSM_data/chiral_nsm_scaled.npz')\n",
    "print(data_xeft['density'].shape)\n",
    "data_pqcd = np.load('../data/eos_data/pressure_pqcd_data_scaled_NSM.npz')"
   ]
  },
  {
   "cell_type": "code",
   "execution_count": 409,
   "id": "0682ad2c",
   "metadata": {},
   "outputs": [
    {
     "name": "stdout",
     "output_type": "stream",
     "text": [
      "(8,) (8,) (8,) (8, 8)\n",
      "(8,) (8,) (8,) (8, 8)\n",
      "(7,) (7,) (7,) (7, 7)\n",
      "Cov shape: (15, 15)\n"
     ]
    }
   ],
   "source": [
    "# call training function to obtain desired data (for both data sets) (change now to test)\n",
    "data_xeft_2 = {\n",
    "    'density': data_xeft['density'][::2],\n",
    "    'mean': data_xeft['mean'][::2],\n",
    "    'std_dev': data_xeft['std_dev'][::2],\n",
    "    'cov': data_xeft['cov'][::2,::2]\n",
    "}\n",
    "\n",
    "cutoff = 20\n",
    "chiral_tr_data, pqcd_tr_data, training_data_new = gp_data(data_xeft_2, data_pqcd, cutoff, \\\n",
    "                                                          all_orders=False, matter='ANM')\n",
    "\n",
    "# assign testing array (no equal points in training)\n",
    "density_test = np.linspace(0.05, 16.4, 1000)[:-1]"
   ]
  },
  {
   "cell_type": "code",
   "execution_count": 410,
   "id": "26ef8b43",
   "metadata": {},
   "outputs": [
    {
     "name": "stdout",
     "output_type": "stream",
     "text": [
      "\n",
      "Density: \n",
      " [ 0.09357262  0.17103506  0.2484975   0.32595993  3.29816361  5.48180301\n",
      "  7.6654424   9.8490818  12.0327212  14.2163606  16.4       ]\n",
      "\n",
      "Mean: \n",
      " [0.04384642 0.10521407 0.19189235 0.26642541 1.12216728 1.10108283\n",
      " 1.09103381 1.08485423 1.0805493  1.07731912 1.07477293]\n",
      "\n",
      "Std dev: \n",
      " [0.00439573 0.01597702 0.03677041 0.07065512 0.03371912 0.02196701\n",
      " 0.01726267 0.01465635 0.0129697  0.01177373 0.01087309]\n"
     ]
    }
   ],
   "source": [
    "from scipy.linalg import block_diag\n",
    "\n",
    "# make training data out of the first set\n",
    "chiral_tr_final = {\n",
    "    'dens': chiral_tr_data['dens'][1::2],  # 1::2\n",
    "    'mean': chiral_tr_data['mean'][1::2],\n",
    "    'std': chiral_tr_data['std'][1::2],\n",
    "    'cov': chiral_tr_data['cov'][1::2,1::2]\n",
    "}\n",
    "\n",
    "pqcd_tr_final = {\n",
    "    'dens': pqcd_tr_data['dens'],\n",
    "    'mean': pqcd_tr_data['mean'],\n",
    "    'std': pqcd_tr_data['std'],\n",
    "    'cov': pqcd_tr_data['cov']\n",
    "}\n",
    "\n",
    "training_data_2 = {\n",
    "    'dens': np.concatenate((chiral_tr_final['dens'], pqcd_tr_final['dens'])),\n",
    "    'mean': np.concatenate((chiral_tr_final['mean'], pqcd_tr_final['mean'])),\n",
    "    'std': np.concatenate((chiral_tr_final['std'], pqcd_tr_final['std'])),\n",
    "    'cov': block_diag(chiral_tr_final['cov'], pqcd_tr_final['cov'])\n",
    "}\n",
    "\n",
    "print('\\nDensity: \\n', training_data_2['dens'])\n",
    "print('\\nMean: \\n', training_data_2['mean'])\n",
    "print('\\nStd dev: \\n', training_data_2['std'])"
   ]
  },
  {
   "cell_type": "code",
   "execution_count": 411,
   "id": "5edca636",
   "metadata": {},
   "outputs": [],
   "source": [
    "# chiral EFT data \n",
    "n_xeft = data_xeft['density']\n",
    "p_mean_xeft = data_xeft['mean']\n",
    "p_stdv_xeft = data_xeft['std_dev']\n",
    "p_cov_xeft = data_xeft['cov']\n",
    "\n",
    "# get the pqcd curve to only plot greater than the cutoff choice\n",
    "ind_cut = np.where(data_pqcd['density']/n0 >= cutoff)[0][0]\n",
    "\n",
    "# pQCD data\n",
    "n_pqcd = data_pqcd['density'][ind_cut:]\n",
    "p_mean_pqcd = data_pqcd['mean'][ind_cut:, -1]\n",
    "p_stdv_pqcd = data_pqcd['std_dev'][ind_cut:, -1]\n",
    "p_cov_pqcd = data_pqcd['cov'][ind_cut:, ind_cut:, -1]"
   ]
  },
  {
   "cell_type": "code",
   "execution_count": 712,
   "id": "3d4e3451",
   "metadata": {},
   "outputs": [],
   "source": [
    "def matern_32(ls, val, euclidx):\n",
    "    kernmat32 = (1.0 + np.sqrt(3)*euclidx/ls) * np.exp(-np.sqrt(3)*euclidx/ls)\n",
    "    return val - kernmat32\n",
    "\n",
    "def matern_52(ls, val, euclidx):\n",
    "    kernmat_52 = (1.0 + np.sqrt(5)*euclidx/ls + 5.0*euclidx**2.0/(3*ls**2.0)) \\\n",
    "           * np.exp(-np.sqrt(5)*euclidx/ls)\n",
    "    return val - kernmat_52\n",
    "\n",
    "def rbf(ls, val, euclidx):\n",
    "    rbfkern = np.exp(-euclidx**2.0/(2.0*ls**2.0))\n",
    "    return val - rbfkern\n",
    "\n",
    "def rat_quad(ls, val, euclidx):\n",
    "    kernrq = (1.0 + euclidx**2.0/(2.0*2.0*ls**2.0))**(-2.0)\n",
    "    return val - kernrq\n",
    "\n",
    "# set euclidean distance\n",
    "euclidx = 2.30\n",
    "\n",
    "# value of the correlation expected (let's set an upper bound on the correlation) (1-2% correlated?)\n",
    "val = 0.1625"
   ]
  },
  {
   "cell_type": "code",
   "execution_count": 713,
   "id": "f51c900e",
   "metadata": {},
   "outputs": [
    {
     "name": "stdout",
     "output_type": "stream",
     "text": [
      "Matern 3/2 scale obtained:  1.218899171299031\n",
      "Matern 5/2 length scale:  1.2147471105416792\n",
      "Rational Quadratic length scale:  0.9450724009894321\n",
      "Length scale obtained:  1.2064967029557143\n"
     ]
    }
   ],
   "source": [
    "root32 = fsolve(matern_32, [2.0], args=(val, euclidx))\n",
    "rootrbf = fsolve(rbf, [2.0], args=(val, euclidx))\n",
    "root52 = fsolve(matern_52, [2.0], args=(val, euclidx))\n",
    "ratquadv = fsolve(rat_quad, [2.0], args=(val, euclidx))\n",
    "print('Matern 3/2 scale obtained: ', root32[0])\n",
    "print('Matern 5/2 length scale: ', root52[0])\n",
    "print('Rational Quadratic length scale: ', ratquadv[0])\n",
    "print('Length scale obtained: ', rootrbf[0])"
   ]
  },
  {
   "cell_type": "markdown",
   "id": "5c0f0f0e",
   "metadata": {},
   "source": [
    "Table so far of values (1% = a; 2% = b):\n",
    "\n",
    "Matern 3/2: a = 3.8; b = 4.7\n",
    "\n",
    "Matern 5/2: a = 2.2; b = 2.6\n",
    "\n",
    "Rational Quadratic: a = 1.1; b = 1.2\n",
    "\n",
    "RBF: a = 1.0; b = 1.2"
   ]
  },
  {
   "cell_type": "markdown",
   "id": "e4b5afca",
   "metadata": {},
   "source": [
    "Table for 20n0: \n",
    "\n",
    "RBF: a = 0.89; b = 0.95\n",
    "\n",
    "Matern 3/2: a = 1.8; b = 2.9\n",
    "\n",
    "Matern 5/2: a = 1.1; b = 1.7\n",
    "\n",
    "Rational Quadratic: a = 0.88; b = 0.95"
   ]
  },
  {
   "cell_type": "code",
   "execution_count": 714,
   "id": "ccd621b0",
   "metadata": {},
   "outputs": [],
   "source": [
    "# try this without any nugget or correlated data\n",
    "maternk = Matern(length_scale = root32[0], length_scale_bounds = 'fixed', nu=1.5)\n",
    "matern5k = Matern(length_scale = root52[0], length_scale_bounds='fixed', nu=2.5)\n",
    "ratquad = RationalQuadratic(length_scale = ratquadv[0], length_scale_bounds='fixed', alpha=2.0)\n",
    "rbfk = C(constant_value=1.1, constant_value_bounds='fixed') * RBF(length_scale = rootrbf[0], length_scale_bounds='fixed')"
   ]
  },
  {
   "cell_type": "code",
   "execution_count": 715,
   "id": "e52e706c",
   "metadata": {},
   "outputs": [],
   "source": [
    "X_train_2 = np.log(training_data_2['dens']).reshape(-1,1)  # training in the log scale\n",
    "y_train_2 = training_data_2['mean'].reshape(-1,1)"
   ]
  },
  {
   "cell_type": "code",
   "execution_count": 716,
   "id": "37f7687d",
   "metadata": {},
   "outputs": [
    {
     "name": "stderr",
     "output_type": "stream",
     "text": [
      "/Users/alexandra/anaconda3/envs/BUQEYE/lib/python3.9/site-packages/sklearn/gaussian_process/kernels.py:431: ConvergenceWarning: The optimal value found for dimension 0 of parameter alpha is close to the specified upper bound 100000.0. Increasing the bound and calling fit again may find a better value.\n",
      "  warnings.warn(\n",
      "/Users/alexandra/anaconda3/envs/BUQEYE/lib/python3.9/site-packages/sklearn/gaussian_process/_gpr.py:445: UserWarning: Predicted variances smaller than 0. Setting those variances to 0.\n",
      "  warnings.warn(\n",
      "/Users/alexandra/anaconda3/envs/BUQEYE/lib/python3.9/site-packages/sklearn/gaussian_process/kernels.py:431: ConvergenceWarning: The optimal value found for dimension 0 of parameter alpha is close to the specified upper bound 100000.0. Increasing the bound and calling fit again may find a better value.\n",
      "  warnings.warn(\n"
     ]
    },
    {
     "data": {
      "image/png": "[encoded data removed]",
      "text/plain": [
       "<Figure size 640x480 with 1 Axes>"
      ]
     },
     "metadata": {},
     "output_type": "display_data"
    }
   ],
   "source": [
    "gp0 = GaussianProcessRegressor2dNoise(kernel=ratquad, alpha=0.0)\n",
    "\n",
    "# gp1 = GaussianProcessRegressor2dNoise(kernel=ratquad, alpha=0.0)\n",
    "\n",
    "# gp2 = GaussianProcessRegressor2dNoise(kernel=ratquad, alpha=0.0)\n",
    "\n",
    "gp3 = GaussianProcessRegressor2dNoise(kernel=ratquad,\n",
    "                                     alpha=training_data_2['cov'])\n",
    "\n",
    "# try several cases\n",
    "_, cov = gp1.predict(X_train_2, return_cov=True)\n",
    "_, covpredict = gp2.predict(np.log(density_test).reshape(-1,1), return_cov=True)  # check this one \n",
    "\n",
    "gp0.fit(X_train_2, y_train_2, priors=False, cutoff=cutoff)\n",
    "pred0, stdv0 = gp0.predict(np.log(density_test).reshape(-1,1), return_std=True)\n",
    "_, cov0 = gp0.predict(np.log(density_test).reshape(-1,1), return_cov=True)\n",
    "\n",
    "gp3.fit(X_train_2, y_train_2, priors=False, cutoff=cutoff)\n",
    "pred3, stdv3 = gp3.predict(np.log(density_test).reshape(-1,1), return_std=True)\n",
    "_, cov3 = gp3.predict(np.log(density_test).reshape(-1,1), return_cov=True)\n",
    "\n",
    "index_2n0 = np.where([density_test[i] >= 0.34 for i in range(len(density_test))])[0][0]\n",
    "index_40n0 = np.where([density_test[i] >= 6.56 for i in range(len(density_test))])[0][0]\n",
    "\n",
    "plt.plot(density_test, pred0)\n",
    "plt.fill_between(density_test, pred0-stdv0, pred0+stdv0, alpha=0.3)\n",
    "plt.plot(density_test, pred3)\n",
    "plt.fill_between(density_test, pred3-stdv3, pred3+stdv3, alpha=0.3)\n",
    "plt.xlim(min(density_test), max(density_test))\n",
    "plt.ylim(0.0, 1.4)\n",
    "plt.xscale('log')"
   ]
  },
  {
   "cell_type": "code",
   "execution_count": 717,
   "id": "b6d56c65",
   "metadata": {},
   "outputs": [
    {
     "name": "stdout",
     "output_type": "stream",
     "text": [
      "0.5912186039537075\n",
      "0.019992749780673173\n"
     ]
    }
   ],
   "source": [
    "# now look at the correlation coefficients (fitted one) and see what's happening (should be 0.05)\n",
    "std_2n0 = stdv0[index_2n0]\n",
    "std_40n0 = stdv0[index_40n0]\n",
    "\n",
    "cov_2n0_40n0 = cov0[index_2n0, index_40n0]\n",
    "\n",
    "# check cross correlation coefficient\n",
    "print(cov_2n0_40n0/(std_2n0*std_40n0))\n",
    "\n",
    "# check the result with the training correlations added\n",
    "std3_2n0 = stdv3[index_2n0]\n",
    "std3_40n0 = stdv3[index_40n0]\n",
    "\n",
    "cov3_2n0_40n0 = cov3[index_2n0, index_40n0]\n",
    "print(cov3_2n0_40n0/(std3_2n0*std3_40n0))"
   ]
  },
  {
   "cell_type": "markdown",
   "id": "107f502b",
   "metadata": {},
   "source": [
    "Ideas for what is happening: the training data covariance matrix is making the number smaller, so this might be a data-dependent kind of result, which would be unfortunate. "
   ]
  },
  {
   "cell_type": "code",
   "execution_count": 718,
   "id": "87a2036c",
   "metadata": {},
   "outputs": [
    {
     "name": "stdout",
     "output_type": "stream",
     "text": [
      "[[ 1.25466304e-12  8.96549501e-12  1.47878376e-11 ...  2.11214269e-09\n",
      "   2.11034708e-09  2.10855857e-09]\n",
      " [ 6.73017198e-13  4.58932892e-12  7.58548779e-12 ...  1.08237186e-09\n",
      "   1.08144502e-09  1.08052967e-09]\n",
      " [-9.93649607e-14  1.19015908e-12  2.18292051e-12 ...  3.19840505e-10\n",
      "   3.19568491e-10  3.19297946e-10]\n",
      " ...\n",
      " [ 1.39770099e-13  2.05257225e-13  3.15540383e-13 ... -2.44729093e-09\n",
      "  -2.44657083e-09 -2.44585030e-09]\n",
      " [-2.87652077e-13 -3.61538544e-13 -3.27081220e-13 ... -3.00939795e-09\n",
      "  -3.00848579e-09 -3.00757130e-09]\n",
      " [ 1.48644118e-15 -1.86796853e-14  3.11133464e-14 ... -1.65682945e-09\n",
      "  -1.65642211e-09 -1.65601388e-09]]\n",
      "0.0077382586573784525\n",
      "-0.0077093421860577474\n"
     ]
    }
   ],
   "source": [
    "# get out each matrix individually (try this for the gp3 cases too)\n",
    "K_fet = gp0.kernel_(np.log(density_test).reshape(-1,1), X_train_2)  # full Kf,et and Kf,te (I think!)\n",
    "K_fte = gp0.kernel_(X_train_2, np.log(density_test).reshape(-1,1))\n",
    "K_inv = np.linalg.inv(gp0.kernel_(X_train_2, X_train_2) + training_data_2['cov'])\n",
    "K_fee = gp0.kernel_(np.log(density_test).reshape(-1,1), np.log(density_test).reshape(-1,1))\n",
    "\n",
    "# calculate the sigma ee by hand and verify with the cov output of predict\n",
    "sigma_ee = K_fee - K_fet @ K_inv @ K_fte\n",
    "\n",
    "# compare the two matrices (should be equal; here up to 10^-14\n",
    "print(cov3 - sigma_ee)\n",
    "\n",
    "# print the pieces of the matrix to see what is happening\n",
    "print(K_fee[index_2n0, index_40n0])\n",
    "rest = sigma_ee[index_2n0, index_40n0] - K_fee[index_2n0, index_40n0]\n",
    "print(rest)"
   ]
  },
  {
   "cell_type": "code",
   "execution_count": 719,
   "id": "afc878d5",
   "metadata": {},
   "outputs": [
    {
     "name": "stdout",
     "output_type": "stream",
     "text": [
      "Value of rho:  0.019992770681086406\n",
      "sigma_ee:  2.8916471320705045e-05\n"
     ]
    }
   ],
   "source": [
    "# correlations in each term; Kfee is a correlation matrix!\n",
    "kfrho = K_fee[index_2n0, index_40n0]/(np.sqrt(K_fee[index_2n0,index_2n0])\n",
    "                                      *np.sqrt(K_fee[index_40n0,index_40n0]))\n",
    "rest_matrix = K_fet @ K_inv @ K_fte\n",
    "\n",
    "restrho = rest_matrix[index_2n0, index_40n0] / (np.sqrt(rest_matrix[index_2n0, index_2n0]) \n",
    "                                                * np.sqrt(rest_matrix[index_40n0, index_40n0]))\n",
    "\n",
    "print('Value of rho: ', sigma_ee[index_2n0, index_40n0]/(np.sqrt(sigma_ee[index_2n0, index_2n0]) \n",
    "                                       * np.sqrt(sigma_ee[index_40n0, index_40n0])))\n",
    "\n",
    "print('sigma_ee: ', sigma_ee[index_2n0, index_40n0])"
   ]
  },
  {
   "cell_type": "code",
   "execution_count": 720,
   "id": "89966a76",
   "metadata": {},
   "outputs": [
    {
     "name": "stdout",
     "output_type": "stream",
     "text": [
      "2.8916450949293022e-05 2.8916471320705045e-05\n"
     ]
    }
   ],
   "source": [
    "# more checks...?\n",
    "# try the single value of that matrix above to compare to each other\n",
    "print(cov3[index_2n0, index_40n0], sigma_ee[index_2n0, index_40n0])"
   ]
  },
  {
   "cell_type": "code",
   "execution_count": 721,
   "id": "ad077bc8",
   "metadata": {},
   "outputs": [
    {
     "name": "stdout",
     "output_type": "stream",
     "text": [
      "0.019992749780670147\n",
      "0.019992770681086406\n"
     ]
    }
   ],
   "source": [
    "print(cov3[index_2n0,index_40n0]/(np.sqrt(cov3[index_2n0, index_2n0]) * \n",
    "                                       np.sqrt(cov3[index_40n0, index_40n0])))\n",
    "print(sigma_ee[index_2n0, index_40n0]/(np.sqrt(sigma_ee[index_2n0, index_2n0]) * \n",
    "                                       np.sqrt(sigma_ee[index_40n0, index_40n0])))  # precise enough!"
   ]
  },
  {
   "cell_type": "code",
   "execution_count": 711,
   "id": "dddeed0b",
   "metadata": {},
   "outputs": [
    {
     "name": "stdout",
     "output_type": "stream",
     "text": [
      "Final correlation:  0.021368832797155138\n"
     ]
    }
   ],
   "source": [
    "# print the final correlation number so we have an idea of what we need\n",
    "print('Final correlation: ', sigma_ee[index_2n0, index_40n0]/(np.sqrt(sigma_ee[index_2n0, index_2n0]) * \n",
    "                                       np.sqrt(sigma_ee[index_40n0, index_40n0])))"
   ]
  },
  {
   "cell_type": "code",
   "execution_count": null,
   "id": "28f68220",
   "metadata": {},
   "outputs": [],
   "source": []
  },
  {
   "cell_type": "code",
   "execution_count": null,
   "id": "fc2ed482",
   "metadata": {},
   "outputs": [],
   "source": []
  }
 ],
 "metadata": {
  "kernelspec": {
   "display_name": "Python 3 (ipykernel)",
   "language": "python",
   "name": "python3"
  },
  "language_info": {
   "codemirror_mode": {
    "name": "ipython",
    "version": 3
   },
   "file_extension": ".py",
   "mimetype": "text/x-python",
   "name": "python",
   "nbconvert_exporter": "python",
   "pygments_lexer": "ipython3",
   "version": "3.9.16"
  }
 },
 "nbformat": 4,
 "nbformat_minor": 5
}
